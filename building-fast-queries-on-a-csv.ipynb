{
 "cells": [
  {
   "cell_type": "markdown",
   "metadata": {},
   "source": [
    "# Building Fast Queries on a CSV\n",
    "\n",
    "In this project, we will imagine that we own an online laptop store and want to build a way to answer a frew different business questions about our inventory.\n",
    "\n",
    "## The Dataset\n",
    "\n",
    "We will use the `laptops.csv` file as our inventory. This CSV file was adapted from the [Laptop Prices dataset on Kaggle](https://www.kaggle.com/ionaskel/laptop-prices). I changed the first column name of the header to ID.\n",
    "\n",
    "Here are the first few rows of the dataset:"
   ]
  },
  {
   "cell_type": "code",
   "execution_count": 1,
   "metadata": {},
   "outputs": [
    {
     "name": "stdout",
     "output_type": "stream",
     "text": [
      "['ID', 'Company', 'Product', 'TypeName', 'Inches', 'ScreenResolution', 'Cpu', 'Ram', 'Memory', 'Gpu', 'OpSys', 'Weight', 'Price_euros']\n",
      "['1', 'Apple', 'MacBook Pro', 'Ultrabook', '13.3', 'IPS Panel Retina Display 2560x1600', 'Intel Core i5 2.3GHz', '8GB', '128GB SSD', 'Intel Iris Plus Graphics 640', 'macOS', '1.37kg', '1339.69']\n",
      "['2', 'Apple', 'Macbook Air', 'Ultrabook', '13.3', '1440x900', 'Intel Core i5 1.8GHz', '8GB', '128GB Flash Storage', 'Intel HD Graphics 6000', 'macOS', '1.34kg', '898.94']\n",
      "['3', 'HP', '250 G6', 'Notebook', '15.6', 'Full HD 1920x1080', 'Intel Core i5 7200U 2.5GHz', '8GB', '256GB SSD', 'Intel HD Graphics 620', 'No OS', '1.86kg', '575']\n",
      "['4', 'Apple', 'MacBook Pro', 'Ultrabook', '15.4', 'IPS Panel Retina Display 2880x1800', 'Intel Core i7 2.7GHz', '16GB', '512GB SSD', 'AMD Radeon Pro 455', 'macOS', '1.83kg', '2537.45']\n",
      "['5', 'Apple', 'MacBook Pro', 'Ultrabook', '13.3', 'IPS Panel Retina Display 2560x1600', 'Intel Core i5 3.1GHz', '8GB', '256GB SSD', 'Intel Iris Plus Graphics 650', 'macOS', '1.37kg', '1803.6']\n"
     ]
    }
   ],
   "source": [
    "import csv\n",
    "with open('dataset/laptops.csv', encoding='latin-1') as open_file:\n",
    "    read_file = csv.reader(open_file)\n",
    "    rows = list(read_file)\n",
    "    header = rows[0]\n",
    "    rows = rows[1:]\n",
    "    \n",
    "print(header)\n",
    "for row in rows[:5]:\n",
    "    print(row)"
   ]
  },
  {
   "cell_type": "markdown",
   "metadata": {},
   "source": [
    "Here is a brief description of the rows:\n",
    "* ID: A unique identifier for the laptop.\n",
    "* Company: The name of the company that produces the laptop.\n",
    "* Product: The name of the laptop.\n",
    "* TypeName: The type of laptop.\n",
    "* Inches: The size of the screen in inches.\n",
    "* ScreenResolution: The resolution of the screen.\n",
    "* CPU: The laptop CPU\n",
    "* RAM: The amount of RAM in the laptop.\n",
    "* Memory: The size of the hard drive.\n",
    "* GPU: The graphics card name.\n",
    "* OpSys: The name of the operating system.\n",
    "* Weight: The laptop weight.\n",
    "* Price: The price of the laptop.\n",
    "\n",
    "## Inventory Class\n",
    "\n",
    "The goal of this guided project is to create a class that represents our inventory. The methods in that class will implement the queries that we want to answer about our inventory. We will also preprocess that data to make those queries run faster.\n",
    "\n",
    "Here are some queries that we will want to answer:\n",
    "* Given a laptop id, find the corresponding data.\n",
    "* Given an amount of money, find whether there are two laptops whose total price is that given amount.\n",
    "* Identify all laptops whose price falls within a given budget.\n",
    "\n",
    "Let's start by implementing the constructor. It will take the name of the CSV file as argument and then read the rows contained in it."
   ]
  },
  {
   "cell_type": "code",
   "execution_count": 2,
   "metadata": {},
   "outputs": [
    {
     "name": "stdout",
     "output_type": "stream",
     "text": [
      "Header: ['ID', 'Company', 'Product', 'TypeName', 'Inches', 'ScreenResolution', 'Cpu', 'Ram', 'Memory', 'Gpu', 'OpSys', 'Weight', 'Price_euros']\n",
      "# of rows: 1303\n"
     ]
    }
   ],
   "source": [
    "class Inventory():\n",
    "    def __init__(self, csv_filename):\n",
    "        with open(''.join(['dataset/', csv_filename]), encoding='latin-1') as open_file:\n",
    "            read_file = csv.reader(open_file)\n",
    "            rows = list(read_file)\n",
    "        self.header = rows[0]\n",
    "        self.rows = rows[1:]\n",
    "        for row in self.rows:\n",
    "            row[-1] = float(row[-1])\n",
    "\n",
    "laptop_inven = Inventory('laptops.csv')\n",
    "print('Header:', laptop_inven.header)\n",
    "print('# of rows:', len(laptop_inven.rows))"
   ]
  },
  {
   "cell_type": "markdown",
   "metadata": {},
   "source": [
    "## Finding a Laptop From the ID\n",
    "\n",
    "The first thing that we will implement is a way to look up a laptop from a given identifier. In this way, when a customer to our store with a purchase slip, we can quickly identify the laptop to which it corresponds.\n",
    "\n",
    "![nn](img/laptop_id_search.gif)\n",
    "\n",
    "For this, we will write a function named `get_laptop_from_id()`. This function will take as argument the identifier of the laptop and return the full row of the laptop with that id. "
   ]
  },
  {
   "cell_type": "code",
   "execution_count": 3,
   "metadata": {},
   "outputs": [
    {
     "name": "stdout",
     "output_type": "stream",
     "text": [
      "Search 64: ['64', 'Asus', 'UX410UA-GV350T (i5-8250U/8GB/256GB/FHD/W10)', 'Notebook', '14', 'Full HD 1920x1080', 'Intel Core i5 8250U 1.6GHz', '8GB', '256GB SSD', 'Intel UHD Graphics 620', 'Windows 10', '1.4kg', 941.0]\n",
      "Search 65: None\n"
     ]
    }
   ],
   "source": [
    "class Inventory():\n",
    "    def __init__(self, csv_filename):\n",
    "        with open(''.join(['dataset/', csv_filename]), encoding='latin-1') as open_file:\n",
    "            read_file = csv.reader(open_file)\n",
    "            rows = list(read_file)\n",
    "        self.header = rows[0]\n",
    "        self.rows = rows[1:]\n",
    "        for row in self.rows:\n",
    "            row[-1] = float(row[-1])\n",
    "            \n",
    "    def get_laptop_from_id(self, laptop_id):\n",
    "        for row in self.rows:\n",
    "            id = row[0]\n",
    "            if id == laptop_id:\n",
    "                return row\n",
    "        return None\n",
    "    \n",
    "laptop_inven = Inventory('laptops.csv')\n",
    "print('Search 64:', laptop_inven.get_laptop_from_id('64'))\n",
    "print('Search 65:', laptop_inven.get_laptop_from_id('65'))"
   ]
  },
  {
   "cell_type": "markdown",
   "metadata": {},
   "source": [
    "The algorithm requires us to look at every single row to find the one that we are looking for (or decide that such a row does not exist). This algorithm has time complexity O(R) where R is the number of rows.\n",
    "\n",
    "## Improving ID Lookups\n",
    "\n",
    "We can solve this problem more efficiently by preprocessing the data. The idea is to preprocess the data into a dictionary where the keys are the IDs and the values the rows. Then, we will use that dictionary in the `get_laptop_from_id()` method. We can do this by:\n",
    "1. Preprocess the data and create the dictionary in the `__init__()` method.\n",
    "2. Re-implement the `get_laptop_from_id()` method. We will do it as a new method so that we can compare the two."
   ]
  },
  {
   "cell_type": "code",
   "execution_count": 4,
   "metadata": {},
   "outputs": [
    {
     "name": "stdout",
     "output_type": "stream",
     "text": [
      "Search 64: ['64', 'Asus', 'UX410UA-GV350T (i5-8250U/8GB/256GB/FHD/W10)', 'Notebook', '14', 'Full HD 1920x1080', 'Intel Core i5 8250U 1.6GHz', '8GB', '256GB SSD', 'Intel UHD Graphics 620', 'Windows 10', '1.4kg', 941.0]\n",
      "Search 65: None\n"
     ]
    }
   ],
   "source": [
    "class Inventory():\n",
    "    def __init__(self, csv_filename):\n",
    "        with open(''.join(['dataset/', csv_filename]), encoding='latin-1') as open_file:\n",
    "            read_file = csv.reader(open_file)\n",
    "            rows = list(read_file)\n",
    "        self.header = rows[0]\n",
    "        self.rows = rows[1:]\n",
    "        for row in self.rows:\n",
    "            row[-1] = float(row[-1])\n",
    "        self.id_to_row = {}\n",
    "        for row in self.rows:\n",
    "            self.id_to_row[row[0]] = row\n",
    "            \n",
    "    def get_laptop_from_id(self, laptop_id):\n",
    "        for row in self.rows:\n",
    "            id = row[0]\n",
    "            if id == laptop_id:\n",
    "                return row\n",
    "        return None\n",
    "    \n",
    "    def get_laptop_from_id_fast(self, laptop_id):\n",
    "        if laptop_id in self.id_to_row:\n",
    "            return self.id_to_row[laptop_id]\n",
    "        return None\n",
    "    \n",
    "laptop_inven = Inventory('laptops.csv')\n",
    "print('Search 64:', laptop_inven.get_laptop_from_id_fast('64'))\n",
    "print('Search 65:', laptop_inven.get_laptop_from_id_fast('65'))"
   ]
  },
  {
   "cell_type": "markdown",
   "metadata": {},
   "source": [
    "## Comparing the Performance\n",
    "\n",
    "The `get_laptop_from_id()` method has time complexity O(R) where R is the number of rows. In contrast, the new implementation as time complexity O(1). It does so by using more memory to store the self.id_to_row dictionary and using a bit more time creating an instance (because it needs to create the dictionary).\n",
    "\n",
    "Let's experiment to compare the performance of the two methods. The idea is to generate random IDs using the `random` module. Then, use both methods to lookup these same IDs. We will use the `time` module to measure the execution time of each lookup and, for each method, add all times together."
   ]
  },
  {
   "cell_type": "code",
   "execution_count": 5,
   "metadata": {},
   "outputs": [
    {
     "name": "stdout",
     "output_type": "stream",
     "text": [
      "Total time of get_laptop_from_id(): 1.2374043464660645\n",
      "Total time of get_laptop_from_id_fast(): 0.008726835250854492\n"
     ]
    }
   ],
   "source": [
    "import time, random\n",
    "\n",
    "ids = [str(random.randint(1, 9999)) for _ in range(10000)]\n",
    "laptop_inven = Inventory('laptops.csv')\n",
    "\n",
    "total_time_no_dict = 0\n",
    "for id in ids:\n",
    "    start = time.time()\n",
    "    laptop_inven.get_laptop_from_id(id)\n",
    "    end = time.time()\n",
    "    total_time_no_dict += (end - start)\n",
    "\n",
    "total_time_dict = 0\n",
    "for id in ids:\n",
    "    start = time.time()\n",
    "    laptop_inven.get_laptop_from_id_fast(id)\n",
    "    end = time.time()\n",
    "    total_time_dict += (end - start)\n",
    "    \n",
    "print('Total time of get_laptop_from_id():', total_time_no_dict)\n",
    "print('Total time of get_laptop_from_id_fast():', total_time_dict)"
   ]
  },
  {
   "cell_type": "markdown",
   "metadata": {},
   "source": [
    "## Two Laptop Promotion\n",
    "\n",
    "Sometimes, your store offers a promotion where you give a gift card. A customer can use the gift to buy up to two laptops. To avoid having to keep track of what was already spent, the gift card has a single time usage. This means that, even if there is leftover money, it cannot be used anymore. For example, imagine that there are only three laptops in inventory:\n",
    "\n",
    "![nn](img/laptop_promotion.png)\n",
    "\n",
    "The prices of these laptops are \\\\$1,339, \\\\$898, and \\\\$575. Say we offered a gift card of \\\\$2,500. Since a customer can buy, at most two laptops with a gift card, the maximum thay can spend is \\\\$2,237 (\\\\$1,339 plus \\\\$898). Therefore, they might feel cheated because no matter how they spend their gift card, they cannot spend the full \\\\$2,500.\n",
    "\n",
    "You don't want to make a customer feel cheated, so whenever you issue a gift card, you want to make sure that there is at least one way to spend it in full. In other words, before issuing a gift card for D dollars, you want to make sure that either there is a laptop that costs exactly D dollars or two laptops whose costs add up to precisely D dollars."
   ]
  },
  {
   "cell_type": "code",
   "execution_count": 6,
   "metadata": {},
   "outputs": [
    {
     "name": "stdout",
     "output_type": "stream",
     "text": [
      "$1000: True\n",
      "$442: False\n"
     ]
    }
   ],
   "source": [
    "class Inventory():\n",
    "    def __init__(self, csv_filename):\n",
    "        with open(''.join(['dataset/', csv_filename]), encoding='latin-1') as open_file:\n",
    "            read_file = csv.reader(open_file)\n",
    "            rows = list(read_file)\n",
    "        self.header = rows[0]\n",
    "        self.rows = rows[1:]\n",
    "        for row in self.rows:\n",
    "            row[-1] = float(row[-1])\n",
    "        self.id_to_row = {}\n",
    "        for row in self.rows:\n",
    "            self.id_to_row[row[0]] = row\n",
    "            \n",
    "    def get_laptop_from_id(self, laptop_id):\n",
    "        for row in self.rows:\n",
    "            id = row[0]\n",
    "            if id == laptop_id:\n",
    "                return row\n",
    "        return None\n",
    "    \n",
    "    def get_laptop_from_id_fast(self, laptop_id):\n",
    "        if laptop_id in self.id_to_row:\n",
    "            return self.id_to_row[laptop_id]\n",
    "        return None\n",
    "    \n",
    "    def check_promotion_dollars(self, dollars):\n",
    "        for row in self.rows:\n",
    "            price = float(row[-1])\n",
    "            if price == dollars:\n",
    "                return True\n",
    "        for i in range(len(self.rows)):\n",
    "            for j in range(i, len(self.rows)):\n",
    "                price1 = float(self.rows[i][-1])\n",
    "                price2 = float(self.rows[j][-1])\n",
    "                if price1 + price2 == dollars:\n",
    "                    return True\n",
    "        return False\n",
    "\n",
    "laptop_inven = Inventory('laptops.csv')\n",
    "print('$1000:', laptop_inven.check_promotion_dollars(1000))\n",
    "print('$442:', laptop_inven.check_promotion_dollars(442))"
   ]
  },
  {
   "cell_type": "markdown",
   "metadata": {},
   "source": [
    "## Optimizing Laptop Promotion\n",
    "\n",
    "We can preprocess data to make our code run faster.\n",
    "\n",
    "Since we only care about whether or not there is a solution, we can store all laptops prices in a set when we initialize the inventory. Then we can check in constant time whether there is a laptop with a given price."
   ]
  },
  {
   "cell_type": "code",
   "execution_count": 7,
   "metadata": {},
   "outputs": [
    {
     "name": "stdout",
     "output_type": "stream",
     "text": [
      "$1000: True\n",
      "$442: False\n"
     ]
    }
   ],
   "source": [
    "class Inventory():\n",
    "    def __init__(self, csv_filename):\n",
    "        with open(''.join(['dataset/', csv_filename]), encoding='latin-1') as open_file:\n",
    "            read_file = csv.reader(open_file)\n",
    "            rows = list(read_file)\n",
    "        self.header = rows[0]\n",
    "        self.rows = rows[1:]\n",
    "        for row in self.rows:\n",
    "            row[-1] = float(row[-1])\n",
    "        self.id_to_row = {}\n",
    "        for row in self.rows:\n",
    "            self.id_to_row[row[0]] = row\n",
    "        self.prices = set()\n",
    "        for row in self.rows:\n",
    "            price = float(row[-1])\n",
    "            self.prices.add(price)\n",
    "            \n",
    "    def get_laptop_from_id(self, laptop_id):\n",
    "        for row in self.rows:\n",
    "            id = row[0]\n",
    "            if id == laptop_id:\n",
    "                return row\n",
    "        return None\n",
    "    \n",
    "    def get_laptop_from_id_fast(self, laptop_id):\n",
    "        if laptop_id in self.id_to_row:\n",
    "            return self.id_to_row[laptop_id]\n",
    "        return None\n",
    "    \n",
    "    def check_promotion_dollars(self, dollars):\n",
    "        for row in self.rows:\n",
    "            price = float(row[-1])\n",
    "            if price == dollars:\n",
    "                return True\n",
    "        for i in range(len(self.rows)):\n",
    "            for j in range(i, len(self.rows)):\n",
    "                price1 = float(self.rows[i][-1])\n",
    "                price2 = float(self.rows[j][-1])\n",
    "                if price1 + price2 == dollars:\n",
    "                    return True\n",
    "        return False\n",
    "\n",
    "    def check_promotion_dollars_fast(self, dollars):\n",
    "        if dollars in self.prices:\n",
    "            return True\n",
    "        for price1 in self.prices:\n",
    "            price2 = dollars - price1\n",
    "            if price2 in self.prices:\n",
    "                return True\n",
    "        return False\n",
    "\n",
    "laptop_inven = Inventory('laptops.csv')\n",
    "print('$1000:', laptop_inven.check_promotion_dollars_fast(1000))\n",
    "print('$442:', laptop_inven.check_promotion_dollars_fast(442))"
   ]
  },
  {
   "cell_type": "markdown",
   "metadata": {},
   "source": [
    "## Comparing Promotion Functions\n",
    "\n",
    "Let's compare the performance of the last two functions that we wrote."
   ]
  },
  {
   "cell_type": "code",
   "execution_count": 8,
   "metadata": {},
   "outputs": [
    {
     "name": "stdout",
     "output_type": "stream",
     "text": [
      "Total time of check_promotion_dollars(): 8.944240093231201\n",
      "Total time of check_promotion_dollars_fast(): 0.003693103790283203\n"
     ]
    }
   ],
   "source": [
    "prices = [random.randint(100, 5000) for _ in range(100)]\n",
    "laptop_inven = Inventory('laptops.csv')\n",
    "\n",
    "total_time_no_set = 0\n",
    "for price in prices:\n",
    "    start = time.time()\n",
    "    laptop_inven.check_promotion_dollars(price)\n",
    "    end = time.time()\n",
    "    total_time_no_set += (end - start)\n",
    "\n",
    "total_time_set = 0\n",
    "for price in prices:\n",
    "    start = time.time()\n",
    "    laptop_inven.check_promotion_dollars_fast(price)\n",
    "    end = time.time()\n",
    "    total_time_set += (end - start)\n",
    "    \n",
    "print('Total time of check_promotion_dollars():', total_time_no_set)\n",
    "print('Total time of check_promotion_dollars_fast():', total_time_set)"
   ]
  },
  {
   "cell_type": "markdown",
   "metadata": {},
   "source": [
    "## Finding Laptops Within a Budget\n",
    "\n",
    "We are going to leverage and extend binary search algorithm to help a customer find all laptops that fall within their budget.\n",
    "\n",
    "More formally, we want to write a method that efficiently answers the query: Given a budget of D dollars, find all laptops whose price is at most D.\n",
    "\n",
    "If we sort all laptops by price, we can use binary search to identify the first laptop in the sorted list within a price larger than D. We need to make sure that our binary search finds the first one on the list. Then, the result of the query will consist of all laptops whose index in the sorted list is smaller than the index of the first laptop whose price is higher than D dollars:\n",
    "\n",
    "![nn](img/laptop_budget.png)"
   ]
  },
  {
   "cell_type": "code",
   "execution_count": 12,
   "metadata": {},
   "outputs": [
    {
     "name": "stdout",
     "output_type": "stream",
     "text": [
      "$1000: 683\n",
      "$10000: -1\n"
     ]
    }
   ],
   "source": [
    "class Inventory():\n",
    "    def __init__(self, csv_filename):\n",
    "        with open(''.join(['dataset/', csv_filename]), encoding='latin-1') as open_file:\n",
    "            read_file = csv.reader(open_file)\n",
    "            rows = list(read_file)\n",
    "        self.header = rows[0]\n",
    "        self.rows = rows[1:]\n",
    "        for row in self.rows:\n",
    "            row[-1] = float(row[-1])\n",
    "        self.id_to_row = {}\n",
    "        for row in self.rows:\n",
    "            self.id_to_row[row[0]] = row\n",
    "        self.prices = set()\n",
    "        for row in self.rows:\n",
    "            price = float(row[-1])\n",
    "            self.prices.add(price)\n",
    "        self.rows_by_price = sorted(self.rows, key=lambda row : row[-1])\n",
    "            \n",
    "    def get_laptop_from_id(self, laptop_id):\n",
    "        for row in self.rows:\n",
    "            id = row[0]\n",
    "            if id == laptop_id:\n",
    "                return row\n",
    "        return None\n",
    "    \n",
    "    def get_laptop_from_id_fast(self, laptop_id):\n",
    "        if laptop_id in self.id_to_row:\n",
    "            return self.id_to_row[laptop_id]\n",
    "        return None\n",
    "    \n",
    "    def check_promotion_dollars(self, dollars):\n",
    "        for row in self.rows:\n",
    "            price = float(row[-1])\n",
    "            if price == dollars:\n",
    "                return True\n",
    "        for i in range(len(self.rows)):\n",
    "            for j in range(i, len(self.rows)):\n",
    "                price1 = float(self.rows[i][-1])\n",
    "                price2 = float(self.rows[j][-1])\n",
    "                if price1 + price2 == dollars:\n",
    "                    return True\n",
    "        return False\n",
    "\n",
    "    def check_promotion_dollars_fast(self, dollars):\n",
    "        if dollars in self.prices:\n",
    "            return True\n",
    "        for price1 in self.prices:\n",
    "            price2 = dollars - price1\n",
    "            if price2 in self.prices:\n",
    "                return True\n",
    "        return False\n",
    "    \n",
    "    def find_first_laptop_more_expensive(self, target_price):\n",
    "        range_start = 0                                   \n",
    "        range_end = len(self.rows_by_price) - 1                       \n",
    "        while range_start < range_end:\n",
    "            range_middle = (range_end + range_start) // 2  \n",
    "            price = self.rows_by_price[range_middle][-1]\n",
    "            if price <= target_price:                                                     \n",
    "                range_start = range_middle + 1             \n",
    "            else:                                          \n",
    "                range_end = range_middle\n",
    "        price = self.rows_by_price[range_start][-1]\n",
    "        if price <= target_price:                  \n",
    "            return -1                                      \n",
    "        return range_start\n",
    "\n",
    "laptop_inven = Inventory('laptops.csv')\n",
    "print('$1000:', laptop_inven.find_first_laptop_more_expensive(1000))\n",
    "print('$10000:', laptop_inven.find_first_laptop_more_expensive(10000))"
   ]
  },
  {
   "cell_type": "markdown",
   "metadata": {},
   "source": [
    "## Conclusion\n",
    "\n",
    "In this guided project, we've learned that we can answer business questions more efficiently by preprocessing the data. We only explored three possible queries that we might want to do over the data. In general, we often have a lot of different datasets to process and queries to answer. Designing such a class for every type of data in a business and implementing specific query methods takes a lot of time."
   ]
  }
 ],
 "metadata": {
  "kernelspec": {
   "display_name": "Python 3",
   "language": "python",
   "name": "python3"
  },
  "language_info": {
   "codemirror_mode": {
    "name": "ipython",
    "version": 3
   },
   "file_extension": ".py",
   "mimetype": "text/x-python",
   "name": "python",
   "nbconvert_exporter": "python",
   "pygments_lexer": "ipython3",
   "version": "3.8.3"
  }
 },
 "nbformat": 4,
 "nbformat_minor": 4
}
