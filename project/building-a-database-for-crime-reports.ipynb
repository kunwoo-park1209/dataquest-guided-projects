{
 "cells": [
  {
   "cell_type": "markdown",
   "metadata": {},
   "source": [
    "# Building a Database for Crime Reports\n",
    "\n",
    "## Introduction\n",
    "\n",
    "In this project, we will build a database for storing data related with crimes that occurred in Boston. This dataset is available in the file [`crime.csv`](https://www.kaggle.com/AnalyzeBoston/crimes-in-boston). The first rows are shown here:\n",
    "\n",
    "![nn](img/preview.png)\n",
    "\n",
    "The first column represents the identifier of the crime. The second contains a numeric identifier code for the committed crime. The third represents a description of the crime. The next two rows contain the date on which the crime happened and the corresponding day of the week. Finally, the last two columns represent the location of the crime with a latitude and longitude coordinates.\n",
    "\n",
    "The goal of this guided project is for you to create a database named `crimes_db` with a table – `boston_crimes` – with appropriate datatypes for storing the data from the `crime.csv` file. You will be creating the table inside a schema named `crimes`. You will also create the `readonly` and `readwrite` groups with the appropriate privileges as we have discussed in this course. Finally, you will also need to create one user for each of these groups.\n",
    "\n",
    "The following diagram illustrates a high level overview of what we want to achieve:\n",
    "\n",
    "![nn](img/goal.png)"
   ]
  },
  {
   "cell_type": "markdown",
   "metadata": {},
   "source": [
    "## Creating the Crime Database\n",
    "\n",
    "We will start by creating a database for storing our crime data as well as a schema for containing the tables.\n",
    "\n",
    "The following diagram illustrates what the database should look like after this screen. We should have a new database named crime_db and a schema in it named crimes.\n",
    "\n",
    "![nn](img/create_db.png)"
   ]
  },
  {
   "cell_type": "code",
   "execution_count": 1,
   "metadata": {
    "scrolled": true
   },
   "outputs": [],
   "source": [
    "import psycopg2\n",
    "conn = psycopg2.connect(dbname='postgres', user='postgres', password='abc123')\n",
    "cur = conn.cursor()\n",
    "conn.autocommit = True\n",
    "cur.execute('CREATE DATABASE crime_db;')\n",
    "conn.close()\n",
    "\n",
    "conn = psycopg2.connect(dbname='crime_db', user='postgres', password='abc123')\n",
    "cur = conn.cursor()\n",
    "conn.autocommit = True\n",
    "cur.execute('CREATE SCHEMA crimes;')"
   ]
  },
  {
   "cell_type": "markdown",
   "metadata": {},
   "source": [
    "## Obtaining the Column Names and Sample\n",
    "\n",
    "We now have a database and a schema — we are ready to start creating tables. Before we do that, let's gather some data about our crime dataset so that we can more easily select the right datatypes to use in our table.\n",
    "\n",
    "Let's start by reading the column names from the `crime.csv` file as well as the first row. In this way we will have them at hand throughout this project so that we can easily take a look at them at any moment."
   ]
  },
  {
   "cell_type": "code",
   "execution_count": 2,
   "metadata": {},
   "outputs": [],
   "source": [
    "import csv\n",
    "with open('dataset/crime.csv') as file:\n",
    "    reader = csv.reader(file)\n",
    "    col_headers = next(reader)\n",
    "    first_row = next(reader)"
   ]
  },
  {
   "cell_type": "markdown",
   "metadata": {},
   "source": [
    "## Creating an Auxiliary Function\n",
    "\n",
    "We now have access to the column headers and the first row of data. This will help us when we create the table as we will not have to remember the names of the columns and using the first row of data we can easily recall what kind of data is stored in each column.\n",
    "\n",
    "Before we create a table for storing the crime data, we need to identify the proper datatypes for the columns. To help us with that, let's create a function — `get_col_value_set()` — that given the name of a CSV file and a column index (starting a 0) that computes a Python set with all distinct values contained in that column.\n",
    "\n",
    "This function will be useful for two reasons:\n",
    "1. Checking whether an enumerated datatype might be a good choice for representing a column.\n",
    "2. Computing the maximum length of any text-like column to select appropriate sizes for VARCHAR columns."
   ]
  },
  {
   "cell_type": "code",
   "execution_count": 3,
   "metadata": {},
   "outputs": [
    {
     "name": "stdout",
     "output_type": "stream",
     "text": [
      "incident_number 319073\n",
      "offense_code 222\n",
      "description 244\n",
      "date 1177\n",
      "day_of_the_week 7\n",
      "lat 18179\n",
      "long 18179\n"
     ]
    }
   ],
   "source": [
    "def get_col_value_set(csv_filename, col_index):\n",
    "    import csv\n",
    "    col_value_set = set()\n",
    "    with open(csv_filename) as file:\n",
    "        reader = csv.reader(file)\n",
    "        next(reader)\n",
    "        for row in reader:\n",
    "            col_value_set.add(row[col_index])\n",
    "    return col_value_set\n",
    "\n",
    "for col_index in range(len(col_headers)):\n",
    "    print(col_headers[col_index], len(get_col_value_set('dataset/crime.csv', col_index)))"
   ]
  },
  {
   "cell_type": "markdown",
   "metadata": {},
   "source": [
    "## Finding the Maximum Length\n",
    "\n",
    "With the function `get_col_value_set()` we can compute the number of distinct values for each column. Columns with a low number of distinct values tend to be good candidates for enumerated datatypes. \n",
    "\n",
    "Another important aspect is to know the longest word in any column containing textual data. We can actually use the previous function for computing this:\n",
    "1. Use the `get_col_value_set()` function to get the distinct values of that column into a variable named col_values\n",
    "2. Iterate over the elements of col_values and find the one which is the longest\n",
    "\n",
    "There are two textual column in the data set, namely, the `description` and `day_of_the_week` columns. However the day of the week contains only 7 values, one for each day. We can tell that the longest of them is `Wednesday` without needing any computation.\n",
    "\n",
    "Let's compute the maximum length of each value in the `description` column."
   ]
  },
  {
   "cell_type": "code",
   "execution_count": 4,
   "metadata": {
    "scrolled": true
   },
   "outputs": [
    {
     "name": "stdout",
     "output_type": "stream",
     "text": [
      "['incident_number', 'offense_code', 'description', 'date', 'day_of_the_week', 'lat', 'long']\n"
     ]
    }
   ],
   "source": [
    "print(col_headers)"
   ]
  },
  {
   "cell_type": "code",
   "execution_count": 5,
   "metadata": {},
   "outputs": [
    {
     "name": "stdout",
     "output_type": "stream",
     "text": [
      "58\n"
     ]
    }
   ],
   "source": [
    "max_len_description = 0\n",
    "for description in get_col_value_set('dataset/crime.csv', 2):\n",
    "    max_len_description = max(max_len_description, len(description))\n",
    "        \n",
    "print(max_len_description)"
   ]
  },
  {
   "cell_type": "markdown",
   "metadata": {},
   "source": [
    "## Creating the Table\n",
    "\n",
    "Let's create a table for storing the Boston crime data."
   ]
  },
  {
   "cell_type": "code",
   "execution_count": 6,
   "metadata": {},
   "outputs": [
    {
     "name": "stdout",
     "output_type": "stream",
     "text": [
      "['incident_number', 'offense_code', 'description', 'date', 'day_of_the_week', 'lat', 'long']\n",
      "['1', '619', 'LARCENY ALL OTHERS', '2018-09-02', 'Sunday', '42.35779134', '-71.13937053']\n"
     ]
    }
   ],
   "source": [
    "print(col_headers)\n",
    "print(first_row)"
   ]
  },
  {
   "cell_type": "markdown",
   "metadata": {},
   "source": [
    "For the `incident_number`, we can use the type `INTEGER` and set it as the primary key. The same datatype can also be used to represent the `offense_code`. \n",
    "\n",
    "Since the `description` has at most 58 character we decided to use the datatype `VARCHAR2(100)` for representing it. This leaves some margin while not being so big that we can waste a lot of memory. \n",
    "\n",
    "The `date` can be represented as the `DATE` datatype. \n",
    "\n",
    "We will create an enumerated datatype named `weekday` for the `day_of_the_week` since there are only 7 possible values.\n",
    "\n",
    "Finally, for the `lat` and `long` we can use `DECIMAL` datatypes."
   ]
  },
  {
   "cell_type": "code",
   "execution_count": 7,
   "metadata": {},
   "outputs": [],
   "source": [
    "cur.execute('''\n",
    "    CREATE TYPE weekday AS ENUM ('Monday', 'Tuesday', 'Wednesday', 'Thursday', 'Friday', 'Saturday', 'Sunday')\n",
    "''')\n",
    "cur.execute('''\n",
    "    CREATE TABLE crimes.boston_crimes (\n",
    "        incident_number INTEGER PRIMARY KEY,\n",
    "        offense_code    INTEGER,\n",
    "        description     VARCHAR(100),\n",
    "        date            DATE,\n",
    "        day_of_the_week WEEKDAY,\n",
    "        lat             DECIMAL,\n",
    "        long            DECIMAL\n",
    "    );\n",
    "''')"
   ]
  },
  {
   "cell_type": "markdown",
   "metadata": {},
   "source": [
    "## Loading the Data\n",
    "\n",
    "Now that we have created the table, we can load the data into it. \n",
    "\n",
    "After this step, the database should look like this:\n",
    "\n",
    "![nn](img/table_created.png)"
   ]
  },
  {
   "cell_type": "code",
   "execution_count": 8,
   "metadata": {},
   "outputs": [],
   "source": [
    "with open('dataset/crime.csv') as file:\n",
    "    cur.copy_expert('COPY crimes.boston_crimes FROM STDIN WITH CSV HEADER;', file)"
   ]
  },
  {
   "cell_type": "markdown",
   "metadata": {},
   "source": [
    "## Revoking Public Privileges\n",
    "\n",
    "Now it is time to handle users. Our goal is to create the two user groups that we have learned about: `readonly` and `readwrite`. By following the least privilege principle, the first step in doing so is to make sure that there are no privileges inherited from the `public` group and on the `public` schema."
   ]
  },
  {
   "cell_type": "code",
   "execution_count": 9,
   "metadata": {},
   "outputs": [],
   "source": [
    "cur.execute('''\n",
    "    REVOKE ALL ON SCHEMA public FROM public;\n",
    "''')\n",
    "cur.execute('''\n",
    "    REVOKE ALL ON DATABASE crime_db FROM public;\n",
    "''')"
   ]
  },
  {
   "cell_type": "markdown",
   "metadata": {},
   "source": [
    "## Creating User Groups\n",
    "\n",
    "The next step is to create our two user groups. The `readonly` group is supposed to only have privileges to perform `SELECT` queries. In contrast, we want the `readwrite` group to be able to perform `SELECT`, `INSERT`, `DELETE` and `UPDATE` queries."
   ]
  },
  {
   "cell_type": "code",
   "execution_count": 10,
   "metadata": {},
   "outputs": [],
   "source": [
    "# Create two groups named readonly and readwrite with the no NOLOGIN option.\n",
    "cur.execute('''\n",
    "    CREATE GROUP readonly NOLOGIN;\n",
    "''')\n",
    "cur.execute('''\n",
    "    CREATE GROUP readwrite NOLOGIN;\n",
    "''')\n",
    "\n",
    "# Grant CONNECT to the crime_db to both groups.\n",
    "cur.execute('''\n",
    "    GRANT CONNECT ON DATABASE crime_db TO readonly;\n",
    "''')\n",
    "cur.execute('''\n",
    "    GRANT CONNECT ON DATABASE crime_db TO readwrite;\n",
    "''')\n",
    "\n",
    "# Grant USAGE to the crimes schema to both groups.\n",
    "cur.execute('''\n",
    "    GRANT USAGE ON SCHEMA crimes TO readonly;\n",
    "''')\n",
    "cur.execute('''\n",
    "    GRANT USAGE ON SCHEMA crimes TO readwrite;\n",
    "''')\n",
    "\n",
    "# Grant group specific privileges to each group on all tables in the crimes schema.\n",
    "cur.execute('''\n",
    "    GRANT SELECT ON ALL TABLES IN SCHEMA crimes TO readonly;\n",
    "''')\n",
    "cur.execute('''\n",
    "    GRANT SELECT, INSERT, DELETE, UPDATE ON ALL TABLES IN SCHEMA crimes TO readwrite;\n",
    "''')"
   ]
  },
  {
   "cell_type": "markdown",
   "metadata": {},
   "source": [
    "## Creating Users\n",
    "\n",
    "The only thing that we need to do is create users. Right now, the high-level picture of our database looks like this:\n",
    "\n",
    "![nn](img/user_groups.png)\n",
    "\n",
    "Let's create one user in each group."
   ]
  },
  {
   "cell_type": "code",
   "execution_count": 11,
   "metadata": {},
   "outputs": [],
   "source": [
    "cur.execute('''\n",
    "    CREATE USER data_analyst WITH PASSWORD 'secret1';\n",
    "''')\n",
    "cur.execute('''\n",
    "    GRANT readonly TO data_analyst;\n",
    "''')\n",
    "cur.execute('''\n",
    "    CREATE USER data_scientist WITH PASSWORD 'secret2';\n",
    "''')\n",
    "cur.execute('''\n",
    "    GRANT readwrite TO data_scientist;\n",
    "''')"
   ]
  },
  {
   "cell_type": "markdown",
   "metadata": {},
   "source": [
    "## Testing\n",
    "\n",
    "Our database should now look like this:\n",
    "\n",
    "![nn](img/goal.png)\n",
    "\n",
    "We can use SQL queries to check whether the objects have been created and that users and groups have the right privileges. This requires you to know the Postgres internal tables. We can query the `pg_roles` table to inspect privileges related to the database and the `information_schema.table_privileges` table to inspect table privileges."
   ]
  },
  {
   "cell_type": "code",
   "execution_count": 12,
   "metadata": {},
   "outputs": [
    {
     "name": "stdout",
     "output_type": "stream",
     "text": [
      "('readonly', False, False, False, False)\n",
      "('readwrite', False, False, False, False)\n",
      "('data_analyst', False, False, False, True)\n",
      "('data_scientist', False, False, False, True)\n",
      "\n",
      "('readonly', 'SELECT')\n",
      "('readwrite', 'INSERT')\n",
      "('readwrite', 'SELECT')\n",
      "('readwrite', 'UPDATE')\n",
      "('readwrite', 'DELETE')\n"
     ]
    }
   ],
   "source": [
    "# close the old connection to test with a brand new connection\n",
    "conn.close()\n",
    "\n",
    "conn = psycopg2.connect(dbname='crime_db', user='postgres', password='abc123')\n",
    "cur = conn.cursor()\n",
    "# check users and groups\n",
    "cur.execute('''\n",
    "    SELECT rolname, rolsuper, rolcreaterole, rolcreatedb, rolcanlogin FROM pg_roles\n",
    "    WHERE rolname IN ('readonly', 'readwrite', 'data_analyst', 'data_scientist');\n",
    "''')\n",
    "for user in cur:\n",
    "    print(user)\n",
    "print()\n",
    "# check privileges\n",
    "cur.execute('''\n",
    "    SELECT grantee, privilege_type\n",
    "    FROM information_schema.table_privileges\n",
    "    WHERE grantee IN ('readonly', 'readwrite');\n",
    "''')\n",
    "for user in cur:\n",
    "    print(user)\n",
    "conn.close()"
   ]
  }
 ],
 "metadata": {
  "kernelspec": {
   "display_name": "Python 3",
   "language": "python",
   "name": "python3"
  },
  "language_info": {
   "codemirror_mode": {
    "name": "ipython",
    "version": 3
   },
   "file_extension": ".py",
   "mimetype": "text/x-python",
   "name": "python",
   "nbconvert_exporter": "python",
   "pygments_lexer": "ipython3",
   "version": "3.8.3"
  }
 },
 "nbformat": 4,
 "nbformat_minor": 4
}
